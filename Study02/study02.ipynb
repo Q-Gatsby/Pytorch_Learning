{
 "cells": [
  {
   "cell_type": "code",
   "execution_count": 1,
   "outputs": [],
   "source": [
    "from torch.utils.data import Dataset"
   ],
   "metadata": {
    "collapsed": false,
    "pycharm": {
     "name": "#%%\n"
    }
   }
  },
  {
   "cell_type": "code",
   "execution_count": 2,
   "outputs": [
    {
     "name": "stdout",
     "output_type": "stream",
     "text": [
      "Help on class Dataset in module torch.utils.data.dataset:\n",
      "\n",
      "class Dataset(typing.Generic)\n",
      " |  An abstract class representing a :class:`Dataset`.\n",
      " |  \n",
      " |  All datasets that represent a map from keys to data samples should subclass\n",
      " |  it. All subclasses should overwrite :meth:`__getitem__`, supporting fetching a\n",
      " |  data sample for a given key. Subclasses could also optionally overwrite\n",
      " |  :meth:`__len__`, which is expected to return the size of the dataset by many\n",
      " |  :class:`~torch.utils.data.Sampler` implementations and the default options\n",
      " |  of :class:`~torch.utils.data.DataLoader`.\n",
      " |  \n",
      " |  .. note::\n",
      " |    :class:`~torch.utils.data.DataLoader` by default constructs a index\n",
      " |    sampler that yields integral indices.  To make it work with a map-style\n",
      " |    dataset with non-integral indices/keys, a custom sampler must be provided.\n",
      " |  \n",
      " |  Method resolution order:\n",
      " |      Dataset\n",
      " |      typing.Generic\n",
      " |      builtins.object\n",
      " |  \n",
      " |  Methods defined here:\n",
      " |  \n",
      " |  __add__(self, other: 'Dataset[T_co]') -> 'ConcatDataset[T_co]'\n",
      " |  \n",
      " |  __getattr__(self, attribute_name)\n",
      " |  \n",
      " |  __getitem__(self, index) -> +T_co\n",
      " |  \n",
      " |  ----------------------------------------------------------------------\n",
      " |  Class methods defined here:\n",
      " |  \n",
      " |  register_datapipe_as_function(function_name, cls_to_register, enable_df_api_tracing=False) from builtins.type\n",
      " |  \n",
      " |  register_function(function_name, function) from builtins.type\n",
      " |  \n",
      " |  ----------------------------------------------------------------------\n",
      " |  Data descriptors defined here:\n",
      " |  \n",
      " |  __dict__\n",
      " |      dictionary for instance variables (if defined)\n",
      " |  \n",
      " |  __weakref__\n",
      " |      list of weak references to the object (if defined)\n",
      " |  \n",
      " |  ----------------------------------------------------------------------\n",
      " |  Data and other attributes defined here:\n",
      " |  \n",
      " |  __annotations__ = {'functions': typing.Dict[str, typing.Callable]}\n",
      " |  \n",
      " |  __orig_bases__ = (typing.Generic[+T_co],)\n",
      " |  \n",
      " |  __parameters__ = (+T_co,)\n",
      " |  \n",
      " |  functions = {'concat': functools.partial(<function Dataset.register_da...\n",
      " |  \n",
      " |  ----------------------------------------------------------------------\n",
      " |  Class methods inherited from typing.Generic:\n",
      " |  \n",
      " |  __class_getitem__(params) from builtins.type\n",
      " |  \n",
      " |  __init_subclass__(*args, **kwargs) from builtins.type\n",
      " |      This method is called when a class is subclassed.\n",
      " |      \n",
      " |      The default implementation does nothing. It may be\n",
      " |      overridden to extend subclasses.\n",
      "\n"
     ]
    }
   ],
   "source": [
    "help(Dataset)"
   ],
   "metadata": {
    "collapsed": false,
    "pycharm": {
     "name": "#%%\n"
    }
   }
  },
  {
   "cell_type": "code",
   "execution_count": 12,
   "outputs": [
    {
     "name": "stdout",
     "output_type": "stream",
     "text": [
      "dataset/train/ants/0013035.jpg\n",
      "dataset/train/ants/1030023514_aad5c608f9.jpg\n",
      "dataset/train/ants/1095476100_3906d8afde.jpg\n",
      "dataset/train/ants/1099452230_d1949d3250.jpg\n",
      "dataset/train/ants/116570827_e9c126745d.jpg\n",
      "dataset/train/ants/1225872729_6f0856588f.jpg\n",
      "dataset/train/ants/1262877379_64fcada201.jpg\n",
      "dataset/train/ants/1269756697_0bce92cdab.jpg\n",
      "dataset/train/ants/1286984635_5119e80de1.jpg\n",
      "dataset/train/ants/132478121_2a430adea2.jpg\n",
      "dataset/train/ants/1360291657_dc248c5eea.jpg\n",
      "dataset/train/ants/1368913450_e146e2fb6d.jpg\n",
      "dataset/train/ants/1473187633_63ccaacea6.jpg\n",
      "dataset/train/ants/148715752_302c84f5a4.jpg\n",
      "dataset/train/ants/1489674356_09d48dde0a.jpg\n",
      "dataset/train/ants/149244013_c529578289.jpg\n",
      "dataset/train/ants/150801003_3390b73135.jpg\n",
      "dataset/train/ants/150801171_cd86f17ed8.jpg\n",
      "dataset/train/ants/154124431_65460430f2.jpg\n",
      "dataset/train/ants/162603798_40b51f1654.jpg\n",
      "dataset/train/ants/1660097129_384bf54490.jpg\n",
      "dataset/train/ants/167890289_dd5ba923f3.jpg\n",
      "dataset/train/ants/1693954099_46d4c20605.jpg\n",
      "dataset/train/ants/175998972.jpg\n",
      "dataset/train/ants/178538489_bec7649292.jpg\n",
      "dataset/train/ants/1804095607_0341701e1c.jpg\n",
      "dataset/train/ants/1808777855_2a895621d7.jpg\n",
      "dataset/train/ants/188552436_605cc9b36b.jpg\n",
      "dataset/train/ants/1917341202_d00a7f9af5.jpg\n",
      "dataset/train/ants/1924473702_daa9aacdbe.jpg\n",
      "dataset/train/ants/196057951_63bf063b92.jpg\n",
      "dataset/train/ants/196757565_326437f5fe.jpg\n",
      "dataset/train/ants/201558278_fe4caecc76.jpg\n",
      "dataset/train/ants/201790779_527f4c0168.jpg\n",
      "dataset/train/ants/2019439677_2db655d361.jpg\n",
      "dataset/train/ants/207947948_3ab29d7207.jpg\n",
      "dataset/train/ants/20935278_9190345f6b.jpg\n",
      "dataset/train/ants/224655713_3956f7d39a.jpg\n",
      "dataset/train/ants/2265824718_2c96f485da.jpg\n",
      "dataset/train/ants/2265825502_fff99cfd2d.jpg\n",
      "dataset/train/ants/226951206_d6bf946504.jpg\n",
      "dataset/train/ants/2278278459_6b99605e50.jpg\n",
      "dataset/train/ants/2288450226_a6e96e8fdf.jpg\n",
      "dataset/train/ants/2288481644_83ff7e4572.jpg\n",
      "dataset/train/ants/2292213964_ca51ce4bef.jpg\n",
      "dataset/train/ants/24335309_c5ea483bb8.jpg\n",
      "dataset/train/ants/245647475_9523dfd13e.jpg\n",
      "dataset/train/ants/255434217_1b2b3fe0a4.jpg\n",
      "dataset/train/ants/258217966_d9d90d18d3.jpg\n",
      "dataset/train/ants/275429470_b2d7d9290b.jpg\n",
      "dataset/train/ants/28847243_e79fe052cd.jpg\n",
      "dataset/train/ants/318052216_84dff3f98a.jpg\n",
      "dataset/train/ants/334167043_cbd1adaeb9.jpg\n",
      "dataset/train/ants/339670531_94b75ae47a.jpg\n",
      "dataset/train/ants/342438950_a3da61deab.jpg\n",
      "dataset/train/ants/36439863_0bec9f554f.jpg\n",
      "dataset/train/ants/374435068_7eee412ec4.jpg\n",
      "dataset/train/ants/382971067_0bfd33afe0.jpg\n",
      "dataset/train/ants/384191229_5779cf591b.jpg\n",
      "dataset/train/ants/386190770_672743c9a7.jpg\n",
      "dataset/train/ants/392382602_1b7bed32fa.jpg\n",
      "dataset/train/ants/403746349_71384f5b58.jpg\n",
      "dataset/train/ants/408393566_b5b694119b.jpg\n",
      "dataset/train/ants/424119020_6d57481dab.jpg\n",
      "dataset/train/ants/424873399_47658a91fb.jpg\n",
      "dataset/train/ants/450057712_771b3bfc91.jpg\n",
      "dataset/train/ants/45472593_bfd624f8dc.jpg\n",
      "dataset/train/ants/459694881_ac657d3187.jpg\n",
      "dataset/train/ants/460372577_f2f6a8c9fc.jpg\n",
      "dataset/train/ants/460874319_0a45ab4d05.jpg\n",
      "dataset/train/ants/466430434_4000737de9.jpg\n",
      "dataset/train/ants/470127037_513711fd21.jpg\n",
      "dataset/train/ants/474806473_ca6caab245.jpg\n",
      "dataset/train/ants/475961153_b8c13fd405.jpg\n",
      "dataset/train/ants/484293231_e53cfc0c89.jpg\n",
      "dataset/train/ants/49375974_e28ba6f17e.jpg\n",
      "dataset/train/ants/506249802_207cd979b4.jpg\n",
      "dataset/train/ants/506249836_717b73f540.jpg\n",
      "dataset/train/ants/512164029_c0a66b8498.jpg\n",
      "dataset/train/ants/512863248_43c8ce579b.jpg\n",
      "dataset/train/ants/518773929_734dbc5ff4.jpg\n",
      "dataset/train/ants/522163566_fec115ca66.jpg\n",
      "dataset/train/ants/522415432_2218f34bf8.jpg\n",
      "dataset/train/ants/531979952_bde12b3bc0.jpg\n",
      "dataset/train/ants/533848102_70a85ad6dd.jpg\n",
      "dataset/train/ants/535522953_308353a07c.jpg\n",
      "dataset/train/ants/540889389_48bb588b21.jpg\n",
      "dataset/train/ants/541630764_dbd285d63c.jpg\n",
      "dataset/train/ants/543417860_b14237f569.jpg\n",
      "dataset/train/ants/560966032_988f4d7bc4.jpg\n",
      "dataset/train/ants/5650366_e22b7e1065.jpg\n",
      "dataset/train/ants/6240329_72c01e663e.jpg\n",
      "dataset/train/ants/6240338_93729615ec.jpg\n",
      "dataset/train/ants/649026570_e58656104b.jpg\n",
      "dataset/train/ants/662541407_ff8db781e7.jpg\n",
      "dataset/train/ants/67270775_e9fdf77e9d.jpg\n",
      "dataset/train/ants/6743948_2b8c096dda.jpg\n",
      "dataset/train/ants/684133190_35b62c0c1d.jpg\n",
      "dataset/train/ants/69639610_95e0de17aa.jpg\n",
      "dataset/train/ants/707895295_009cf23188.jpg\n",
      "dataset/train/ants/7759525_1363d24e88.jpg\n",
      "dataset/train/ants/795000156_a9900a4a71.jpg\n",
      "dataset/train/ants/822537660_caf4ba5514.jpg\n",
      "dataset/train/ants/82852639_52b7f7f5e3.jpg\n",
      "dataset/train/ants/841049277_b28e58ad05.jpg\n",
      "dataset/train/ants/886401651_f878e888cd.jpg\n",
      "dataset/train/ants/892108839_f1aad4ca46.jpg\n",
      "dataset/train/ants/938946700_ca1c669085.jpg\n",
      "dataset/train/ants/957233405_25c1d1187b.jpg\n",
      "dataset/train/ants/9715481_b3cb4114ff.jpg\n",
      "dataset/train/ants/998118368_6ac1d91f81.jpg\n",
      "dataset/train/ants/Ant_1.jpg\n",
      "dataset/train/ants/MehdiabadiAnt2_600.jpg\n",
      "dataset/train/ants/Nepenthes_rafflesiana_ant.jpg\n",
      "dataset/train/ants/VietnameseAntMimicSpider.jpg\n",
      "dataset/train/ants/ant photos.jpg\n",
      "dataset/train/ants/army-ants-red-picture.jpg\n",
      "dataset/train/ants/formica.jpeg\n",
      "dataset/train/ants/hormiga_co_por.jpg\n",
      "dataset/train/ants/imageNotFound.gif\n",
      "dataset/train/ants/kurokusa.jpg\n",
      "dataset/train/ants/swiss-army-ant.jpg\n",
      "dataset/train/ants/termite-vs-ant.jpg\n",
      "dataset/train/ants/trap-jaw-ant-insect-bg.jpg\n"
     ]
    }
   ],
   "source": [
    "import os\n",
    "path = 'dataset/train/ants'\n",
    "pp = os.listdir(path)\n",
    "# pp.sort()   #这里sort出来的就是原文件顺序\n",
    "pp.sort(key= lambda x: str(x[:-4]))    #这里的sort出来就是按原文件前四位的字符串到最后四位，剔除.jpg出来的排序结果\n",
    "for filename in pp:\n",
    "    print(os.path.join(path,filename))"
   ],
   "metadata": {
    "collapsed": false,
    "pycharm": {
     "name": "#%%\n"
    }
   }
  },
  {
   "cell_type": "code",
   "execution_count": 13,
   "outputs": [
    {
     "data": {
      "text/plain": "['0013035.jpg',\n '1030023514_aad5c608f9.jpg',\n '1095476100_3906d8afde.jpg',\n '1099452230_d1949d3250.jpg',\n '116570827_e9c126745d.jpg',\n '1225872729_6f0856588f.jpg',\n '1262877379_64fcada201.jpg',\n '1269756697_0bce92cdab.jpg',\n '1286984635_5119e80de1.jpg',\n '132478121_2a430adea2.jpg',\n '1360291657_dc248c5eea.jpg',\n '1368913450_e146e2fb6d.jpg',\n '1473187633_63ccaacea6.jpg',\n '148715752_302c84f5a4.jpg',\n '1489674356_09d48dde0a.jpg',\n '149244013_c529578289.jpg',\n '150801003_3390b73135.jpg',\n '150801171_cd86f17ed8.jpg',\n '154124431_65460430f2.jpg',\n '162603798_40b51f1654.jpg',\n '1660097129_384bf54490.jpg',\n '167890289_dd5ba923f3.jpg',\n '1693954099_46d4c20605.jpg',\n '175998972.jpg',\n '178538489_bec7649292.jpg',\n '1804095607_0341701e1c.jpg',\n '1808777855_2a895621d7.jpg',\n '188552436_605cc9b36b.jpg',\n '1917341202_d00a7f9af5.jpg',\n '1924473702_daa9aacdbe.jpg',\n '196057951_63bf063b92.jpg',\n '196757565_326437f5fe.jpg',\n '201558278_fe4caecc76.jpg',\n '201790779_527f4c0168.jpg',\n '2019439677_2db655d361.jpg',\n '207947948_3ab29d7207.jpg',\n '20935278_9190345f6b.jpg',\n '224655713_3956f7d39a.jpg',\n '2265824718_2c96f485da.jpg',\n '2265825502_fff99cfd2d.jpg',\n '226951206_d6bf946504.jpg',\n '2278278459_6b99605e50.jpg',\n '2288450226_a6e96e8fdf.jpg',\n '2288481644_83ff7e4572.jpg',\n '2292213964_ca51ce4bef.jpg',\n '24335309_c5ea483bb8.jpg',\n '245647475_9523dfd13e.jpg',\n '255434217_1b2b3fe0a4.jpg',\n '258217966_d9d90d18d3.jpg',\n '275429470_b2d7d9290b.jpg',\n '28847243_e79fe052cd.jpg',\n '318052216_84dff3f98a.jpg',\n '334167043_cbd1adaeb9.jpg',\n '339670531_94b75ae47a.jpg',\n '342438950_a3da61deab.jpg',\n '36439863_0bec9f554f.jpg',\n '374435068_7eee412ec4.jpg',\n '382971067_0bfd33afe0.jpg',\n '384191229_5779cf591b.jpg',\n '386190770_672743c9a7.jpg',\n '392382602_1b7bed32fa.jpg',\n '403746349_71384f5b58.jpg',\n '408393566_b5b694119b.jpg',\n '424119020_6d57481dab.jpg',\n '424873399_47658a91fb.jpg',\n '450057712_771b3bfc91.jpg',\n '45472593_bfd624f8dc.jpg',\n '459694881_ac657d3187.jpg',\n '460372577_f2f6a8c9fc.jpg',\n '460874319_0a45ab4d05.jpg',\n '466430434_4000737de9.jpg',\n '470127037_513711fd21.jpg',\n '474806473_ca6caab245.jpg',\n '475961153_b8c13fd405.jpg',\n '484293231_e53cfc0c89.jpg',\n '49375974_e28ba6f17e.jpg',\n '506249802_207cd979b4.jpg',\n '506249836_717b73f540.jpg',\n '512164029_c0a66b8498.jpg',\n '512863248_43c8ce579b.jpg',\n '518773929_734dbc5ff4.jpg',\n '522163566_fec115ca66.jpg',\n '522415432_2218f34bf8.jpg',\n '531979952_bde12b3bc0.jpg',\n '533848102_70a85ad6dd.jpg',\n '535522953_308353a07c.jpg',\n '540889389_48bb588b21.jpg',\n '541630764_dbd285d63c.jpg',\n '543417860_b14237f569.jpg',\n '560966032_988f4d7bc4.jpg',\n '5650366_e22b7e1065.jpg',\n '6240329_72c01e663e.jpg',\n '6240338_93729615ec.jpg',\n '649026570_e58656104b.jpg',\n '662541407_ff8db781e7.jpg',\n '67270775_e9fdf77e9d.jpg',\n '6743948_2b8c096dda.jpg',\n '684133190_35b62c0c1d.jpg',\n '69639610_95e0de17aa.jpg',\n '707895295_009cf23188.jpg',\n '7759525_1363d24e88.jpg',\n '795000156_a9900a4a71.jpg',\n '822537660_caf4ba5514.jpg',\n '82852639_52b7f7f5e3.jpg',\n '841049277_b28e58ad05.jpg',\n '886401651_f878e888cd.jpg',\n '892108839_f1aad4ca46.jpg',\n '938946700_ca1c669085.jpg',\n '957233405_25c1d1187b.jpg',\n '9715481_b3cb4114ff.jpg',\n '998118368_6ac1d91f81.jpg',\n 'Ant_1.jpg',\n 'MehdiabadiAnt2_600.jpg',\n 'Nepenthes_rafflesiana_ant.jpg',\n 'VietnameseAntMimicSpider.jpg',\n 'ant photos.jpg',\n 'army-ants-red-picture.jpg',\n 'formica.jpeg',\n 'hormiga_co_por.jpg',\n 'imageNotFound.gif',\n 'kurokusa.jpg',\n 'swiss-army-ant.jpg',\n 'termite-vs-ant.jpg',\n 'trap-jaw-ant-insect-bg.jpg']"
     },
     "execution_count": 13,
     "metadata": {},
     "output_type": "execute_result"
    }
   ],
   "source": [
    "pp"
   ],
   "metadata": {
    "collapsed": false,
    "pycharm": {
     "name": "#%%\n"
    }
   }
  },
  {
   "cell_type": "code",
   "execution_count": null,
   "outputs": [],
   "source": [],
   "metadata": {
    "collapsed": false,
    "pycharm": {
     "name": "#%%\n"
    }
   }
  }
 ],
 "metadata": {
  "kernelspec": {
   "display_name": "Python 3",
   "language": "python",
   "name": "python3"
  },
  "language_info": {
   "codemirror_mode": {
    "name": "ipython",
    "version": 2
   },
   "file_extension": ".py",
   "mimetype": "text/x-python",
   "name": "python",
   "nbconvert_exporter": "python",
   "pygments_lexer": "ipython2",
   "version": "2.7.6"
  }
 },
 "nbformat": 4,
 "nbformat_minor": 0
}