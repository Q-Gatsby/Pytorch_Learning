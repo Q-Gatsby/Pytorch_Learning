{
 "cells": [
  {
   "cell_type": "code",
   "execution_count": 1,
   "outputs": [],
   "source": [
    "from torch.utils.data import Dataset"
   ],
   "metadata": {
    "collapsed": false,
    "pycharm": {
     "name": "#%%\n"
    }
   }
  },
  {
   "cell_type": "code",
   "execution_count": 2,
   "outputs": [
    {
     "name": "stdout",
     "output_type": "stream",
     "text": [
      "Help on class Dataset in module torch.utils.data.dataset:\n",
      "\n",
      "class Dataset(typing.Generic)\n",
      " |  An abstract class representing a :class:`Dataset`.\n",
      " |  \n",
      " |  All datasets that represent a map from keys to data samples should subclass\n",
      " |  it. All subclasses should overwrite :meth:`__getitem__`, supporting fetching a\n",
      " |  data sample for a given key. Subclasses could also optionally overwrite\n",
      " |  :meth:`__len__`, which is expected to return the size of the dataset by many\n",
      " |  :class:`~torch.utils.data.Sampler` implementations and the default options\n",
      " |  of :class:`~torch.utils.data.DataLoader`.\n",
      " |  \n",
      " |  .. note::\n",
      " |    :class:`~torch.utils.data.DataLoader` by default constructs a index\n",
      " |    sampler that yields integral indices.  To make it work with a map-style\n",
      " |    dataset with non-integral indices/keys, a custom sampler must be provided.\n",
      " |  \n",
      " |  Method resolution order:\n",
      " |      Dataset\n",
      " |      typing.Generic\n",
      " |      builtins.object\n",
      " |  \n",
      " |  Methods defined here:\n",
      " |  \n",
      " |  __add__(self, other: 'Dataset[T_co]') -> 'ConcatDataset[T_co]'\n",
      " |  \n",
      " |  __getattr__(self, attribute_name)\n",
      " |  \n",
      " |  __getitem__(self, index) -> +T_co\n",
      " |  \n",
      " |  ----------------------------------------------------------------------\n",
      " |  Class methods defined here:\n",
      " |  \n",
      " |  register_datapipe_as_function(function_name, cls_to_register, enable_df_api_tracing=False) from builtins.type\n",
      " |  \n",
      " |  register_function(function_name, function) from builtins.type\n",
      " |  \n",
      " |  ----------------------------------------------------------------------\n",
      " |  Data descriptors defined here:\n",
      " |  \n",
      " |  __dict__\n",
      " |      dictionary for instance variables (if defined)\n",
      " |  \n",
      " |  __weakref__\n",
      " |      list of weak references to the object (if defined)\n",
      " |  \n",
      " |  ----------------------------------------------------------------------\n",
      " |  Data and other attributes defined here:\n",
      " |  \n",
      " |  __annotations__ = {'functions': typing.Dict[str, typing.Callable]}\n",
      " |  \n",
      " |  __orig_bases__ = (typing.Generic[+T_co],)\n",
      " |  \n",
      " |  __parameters__ = (+T_co,)\n",
      " |  \n",
      " |  functions = {'concat': functools.partial(<function Dataset.register_da...\n",
      " |  \n",
      " |  ----------------------------------------------------------------------\n",
      " |  Class methods inherited from typing.Generic:\n",
      " |  \n",
      " |  __class_getitem__(params) from builtins.type\n",
      " |  \n",
      " |  __init_subclass__(*args, **kwargs) from builtins.type\n",
      " |      This method is called when a class is subclassed.\n",
      " |      \n",
      " |      The default implementation does nothing. It may be\n",
      " |      overridden to extend subclasses.\n",
      "\n"
     ]
    }
   ],
   "source": [
    "help(Dataset)"
   ],
   "metadata": {
    "collapsed": false,
    "pycharm": {
     "name": "#%%\n"
    }
   }
  },
  {
   "cell_type": "code",
   "execution_count": 16,
   "outputs": [
    {
     "name": "stdout",
     "output_type": "stream",
     "text": [
      "dataset/train/ants/0013035.jpg\n",
      "dataset/train/ants/1030023514_aad5c608f9.jpg\n",
      "dataset/train/ants/1095476100_3906d8afde.jpg\n",
      "dataset/train/ants/1099452230_d1949d3250.jpg\n",
      "dataset/train/ants/116570827_e9c126745d.jpg\n",
      "dataset/train/ants/1225872729_6f0856588f.jpg\n",
      "dataset/train/ants/1262877379_64fcada201.jpg\n",
      "dataset/train/ants/1269756697_0bce92cdab.jpg\n",
      "dataset/train/ants/1286984635_5119e80de1.jpg\n",
      "dataset/train/ants/132478121_2a430adea2.jpg\n",
      "dataset/train/ants/1360291657_dc248c5eea.jpg\n",
      "dataset/train/ants/1368913450_e146e2fb6d.jpg\n",
      "dataset/train/ants/1473187633_63ccaacea6.jpg\n",
      "dataset/train/ants/148715752_302c84f5a4.jpg\n",
      "dataset/train/ants/1489674356_09d48dde0a.jpg\n",
      "dataset/train/ants/149244013_c529578289.jpg\n",
      "dataset/train/ants/150801003_3390b73135.jpg\n",
      "dataset/train/ants/150801171_cd86f17ed8.jpg\n",
      "dataset/train/ants/154124431_65460430f2.jpg\n",
      "dataset/train/ants/162603798_40b51f1654.jpg\n",
      "dataset/train/ants/1660097129_384bf54490.jpg\n",
      "dataset/train/ants/167890289_dd5ba923f3.jpg\n",
      "dataset/train/ants/1693954099_46d4c20605.jpg\n",
      "dataset/train/ants/175998972.jpg\n",
      "dataset/train/ants/178538489_bec7649292.jpg\n",
      "dataset/train/ants/1804095607_0341701e1c.jpg\n",
      "dataset/train/ants/1808777855_2a895621d7.jpg\n",
      "dataset/train/ants/188552436_605cc9b36b.jpg\n",
      "dataset/train/ants/1917341202_d00a7f9af5.jpg\n",
      "dataset/train/ants/1924473702_daa9aacdbe.jpg\n",
      "dataset/train/ants/196057951_63bf063b92.jpg\n",
      "dataset/train/ants/196757565_326437f5fe.jpg\n",
      "dataset/train/ants/201558278_fe4caecc76.jpg\n",
      "dataset/train/ants/201790779_527f4c0168.jpg\n",
      "dataset/train/ants/2019439677_2db655d361.jpg\n",
      "dataset/train/ants/207947948_3ab29d7207.jpg\n",
      "dataset/train/ants/20935278_9190345f6b.jpg\n",
      "dataset/train/ants/224655713_3956f7d39a.jpg\n",
      "dataset/train/ants/2265824718_2c96f485da.jpg\n",
      "dataset/train/ants/2265825502_fff99cfd2d.jpg\n",
      "dataset/train/ants/226951206_d6bf946504.jpg\n",
      "dataset/train/ants/2278278459_6b99605e50.jpg\n",
      "dataset/train/ants/2288450226_a6e96e8fdf.jpg\n",
      "dataset/train/ants/2288481644_83ff7e4572.jpg\n",
      "dataset/train/ants/2292213964_ca51ce4bef.jpg\n",
      "dataset/train/ants/24335309_c5ea483bb8.jpg\n",
      "dataset/train/ants/245647475_9523dfd13e.jpg\n",
      "dataset/train/ants/255434217_1b2b3fe0a4.jpg\n",
      "dataset/train/ants/258217966_d9d90d18d3.jpg\n",
      "dataset/train/ants/275429470_b2d7d9290b.jpg\n",
      "dataset/train/ants/28847243_e79fe052cd.jpg\n",
      "dataset/train/ants/318052216_84dff3f98a.jpg\n",
      "dataset/train/ants/334167043_cbd1adaeb9.jpg\n",
      "dataset/train/ants/339670531_94b75ae47a.jpg\n",
      "dataset/train/ants/342438950_a3da61deab.jpg\n",
      "dataset/train/ants/36439863_0bec9f554f.jpg\n",
      "dataset/train/ants/374435068_7eee412ec4.jpg\n",
      "dataset/train/ants/382971067_0bfd33afe0.jpg\n",
      "dataset/train/ants/384191229_5779cf591b.jpg\n",
      "dataset/train/ants/386190770_672743c9a7.jpg\n",
      "dataset/train/ants/392382602_1b7bed32fa.jpg\n",
      "dataset/train/ants/403746349_71384f5b58.jpg\n",
      "dataset/train/ants/408393566_b5b694119b.jpg\n",
      "dataset/train/ants/424119020_6d57481dab.jpg\n",
      "dataset/train/ants/424873399_47658a91fb.jpg\n",
      "dataset/train/ants/450057712_771b3bfc91.jpg\n",
      "dataset/train/ants/45472593_bfd624f8dc.jpg\n",
      "dataset/train/ants/459694881_ac657d3187.jpg\n",
      "dataset/train/ants/460372577_f2f6a8c9fc.jpg\n",
      "dataset/train/ants/460874319_0a45ab4d05.jpg\n",
      "dataset/train/ants/466430434_4000737de9.jpg\n",
      "dataset/train/ants/470127037_513711fd21.jpg\n",
      "dataset/train/ants/474806473_ca6caab245.jpg\n",
      "dataset/train/ants/475961153_b8c13fd405.jpg\n",
      "dataset/train/ants/484293231_e53cfc0c89.jpg\n",
      "dataset/train/ants/49375974_e28ba6f17e.jpg\n",
      "dataset/train/ants/506249802_207cd979b4.jpg\n",
      "dataset/train/ants/506249836_717b73f540.jpg\n",
      "dataset/train/ants/512164029_c0a66b8498.jpg\n",
      "dataset/train/ants/512863248_43c8ce579b.jpg\n",
      "dataset/train/ants/518773929_734dbc5ff4.jpg\n",
      "dataset/train/ants/522163566_fec115ca66.jpg\n",
      "dataset/train/ants/522415432_2218f34bf8.jpg\n",
      "dataset/train/ants/531979952_bde12b3bc0.jpg\n",
      "dataset/train/ants/533848102_70a85ad6dd.jpg\n",
      "dataset/train/ants/535522953_308353a07c.jpg\n",
      "dataset/train/ants/540889389_48bb588b21.jpg\n",
      "dataset/train/ants/541630764_dbd285d63c.jpg\n",
      "dataset/train/ants/543417860_b14237f569.jpg\n",
      "dataset/train/ants/560966032_988f4d7bc4.jpg\n",
      "dataset/train/ants/5650366_e22b7e1065.jpg\n",
      "dataset/train/ants/6240329_72c01e663e.jpg\n",
      "dataset/train/ants/6240338_93729615ec.jpg\n",
      "dataset/train/ants/649026570_e58656104b.jpg\n",
      "dataset/train/ants/662541407_ff8db781e7.jpg\n",
      "dataset/train/ants/67270775_e9fdf77e9d.jpg\n",
      "dataset/train/ants/6743948_2b8c096dda.jpg\n",
      "dataset/train/ants/684133190_35b62c0c1d.jpg\n",
      "dataset/train/ants/69639610_95e0de17aa.jpg\n",
      "dataset/train/ants/707895295_009cf23188.jpg\n",
      "dataset/train/ants/7759525_1363d24e88.jpg\n",
      "dataset/train/ants/795000156_a9900a4a71.jpg\n",
      "dataset/train/ants/822537660_caf4ba5514.jpg\n",
      "dataset/train/ants/82852639_52b7f7f5e3.jpg\n",
      "dataset/train/ants/841049277_b28e58ad05.jpg\n",
      "dataset/train/ants/886401651_f878e888cd.jpg\n",
      "dataset/train/ants/892108839_f1aad4ca46.jpg\n",
      "dataset/train/ants/938946700_ca1c669085.jpg\n",
      "dataset/train/ants/957233405_25c1d1187b.jpg\n",
      "dataset/train/ants/9715481_b3cb4114ff.jpg\n",
      "dataset/train/ants/998118368_6ac1d91f81.jpg\n",
      "dataset/train/ants/Ant_1.jpg\n",
      "dataset/train/ants/MehdiabadiAnt2_600.jpg\n",
      "dataset/train/ants/Nepenthes_rafflesiana_ant.jpg\n",
      "dataset/train/ants/VietnameseAntMimicSpider.jpg\n",
      "dataset/train/ants/ant photos.jpg\n",
      "dataset/train/ants/army-ants-red-picture.jpg\n",
      "dataset/train/ants/formica.jpeg\n",
      "dataset/train/ants/hormiga_co_por.jpg\n",
      "dataset/train/ants/imageNotFound.gif\n",
      "dataset/train/ants/kurokusa.jpg\n",
      "dataset/train/ants/swiss-army-ant.jpg\n",
      "dataset/train/ants/termite-vs-ant.jpg\n",
      "dataset/train/ants/trap-jaw-ant-insect-bg.jpg\n"
     ]
    }
   ],
   "source": [
    "import os\n",
    "path = 'dataset/train/ants'\n",
    "pp = os.listdir(path)\n",
    "pp.sort()   #这里sort出来是按文件数字从小到大进行排序\n",
    "#如果想按照原来文件夹文件的排序方式，但没有很好的统一套路，可以在每个文件的前面加上1，2，3，4的首字母，方便进行sort，sort完成之后再进行删除。\n",
    "# pp.sort(key= lambda x: str(x[:-4]))    #这里的sort出来就是按原文件前四位的字符串到最后四位，剔除.jpg出来的排序结果\n",
    "for filename in pp:\n",
    "    print(os.path.join(path,filename))"
   ],
   "metadata": {
    "collapsed": false,
    "pycharm": {
     "name": "#%%\n"
    }
   }
  },
  {
   "cell_type": "code",
   "execution_count": 18,
   "outputs": [
    {
     "data": {
      "text/plain": "124"
     },
     "execution_count": 18,
     "metadata": {},
     "output_type": "execute_result"
    }
   ],
   "source": [
    "len(pp)"
   ],
   "metadata": {
    "collapsed": false,
    "pycharm": {
     "name": "#%%\n"
    }
   }
  },
  {
   "cell_type": "code",
   "execution_count": 33,
   "outputs": [],
   "source": [
    "import os\n",
    "root_dir = 'dataset/train'\n",
    "target_dir = 'ants_image'\n",
    "img_path = os.listdir(os.path.join(root_dir, target_dir))\n",
    "label = target_dir.split('_')[0]\n",
    "out_dir = 'ants_label'\n",
    "for i in img_path:\n",
    "    file_name = i.split('.jpg')[0]\n",
    "    with open(os.path.join(root_dir, out_dir,\"{}.txt\".format(file_name)),'w') as f:\n",
    "        f.write(label)"
   ],
   "metadata": {
    "collapsed": false,
    "pycharm": {
     "name": "#%%\n"
    }
   }
  },
  {
   "cell_type": "code",
   "execution_count": 42,
   "outputs": [],
   "source": [
    "root_dir = 'dataset/train'\n",
    "target_dir = 'bees_image'\n",
    "img_path = os.listdir(os.path.join(root_dir, target_dir))\n",
    "label = target_dir.split('_')[0]\n",
    "out_dir = 'bees_label'\n",
    "for i in img_path:\n",
    "    file_name = i.split('.jpg')[0]\n",
    "    with open(os.path.join(root_dir, out_dir, f'{file_name}.txt'),'w') as f:\n",
    "        f.write(label)"
   ],
   "metadata": {
    "collapsed": false,
    "pycharm": {
     "name": "#%%\n"
    }
   }
  },
  {
   "cell_type": "markdown",
   "source": [
    "F-string"
   ],
   "metadata": {
    "collapsed": false,
    "pycharm": {
     "name": "#%% md\n"
    }
   }
  },
  {
   "cell_type": "code",
   "execution_count": 40,
   "outputs": [
    {
     "name": "stdout",
     "output_type": "stream",
     "text": [
      "blabla\n"
     ]
    },
    {
     "data": {
      "text/plain": "'blabla,abs'"
     },
     "execution_count": 40,
     "metadata": {},
     "output_type": "execute_result"
    }
   ],
   "source": [
    "s = 'blabla'\n",
    "print(f'{s:s}')\n",
    "f'{s:s},abs'"
   ],
   "metadata": {
    "collapsed": false,
    "pycharm": {
     "name": "#%%\n"
    }
   }
  },
  {
   "cell_type": "markdown",
   "source": [
    "Format()"
   ],
   "metadata": {
    "collapsed": false,
    "pycharm": {
     "name": "#%% md\n"
    }
   }
  },
  {
   "cell_type": "code",
   "execution_count": 36,
   "outputs": [
    {
     "name": "stdout",
     "output_type": "stream",
     "text": [
      "笨笨是我,blabla,10086!\n"
     ]
    }
   ],
   "source": [
    "print('笨笨是我,{0},{1}!'.format('blabla',10086))"
   ],
   "metadata": {
    "collapsed": false,
    "pycharm": {
     "name": "#%%\n"
    }
   }
  },
  {
   "cell_type": "code",
   "execution_count": 34,
   "outputs": [
    {
     "name": "stdout",
     "output_type": "stream",
     "text": [
      "Help on built-in function open in module io:\n",
      "\n",
      "open(file, mode='r', buffering=-1, encoding=None, errors=None, newline=None, closefd=True, opener=None)\n",
      "    Open file and return a stream.  Raise OSError upon failure.\n",
      "    \n",
      "    file is either a text or byte string giving the name (and the path\n",
      "    if the file isn't in the current working directory) of the file to\n",
      "    be opened or an integer file descriptor of the file to be\n",
      "    wrapped. (If a file descriptor is given, it is closed when the\n",
      "    returned I/O object is closed, unless closefd is set to False.)\n",
      "    \n",
      "    mode is an optional string that specifies the mode in which the file\n",
      "    is opened. It defaults to 'r' which means open for reading in text\n",
      "    mode.  Other common values are 'w' for writing (truncating the file if\n",
      "    it already exists), 'x' for creating and writing to a new file, and\n",
      "    'a' for appending (which on some Unix systems, means that all writes\n",
      "    append to the end of the file regardless of the current seek position).\n",
      "    In text mode, if encoding is not specified the encoding used is platform\n",
      "    dependent: locale.getpreferredencoding(False) is called to get the\n",
      "    current locale encoding. (For reading and writing raw bytes use binary\n",
      "    mode and leave encoding unspecified.) The available modes are:\n",
      "    \n",
      "    ========= ===============================================================\n",
      "    Character Meaning\n",
      "    --------- ---------------------------------------------------------------\n",
      "    'r'       open for reading (default)\n",
      "    'w'       open for writing, truncating the file first\n",
      "    'x'       create a new file and open it for writing\n",
      "    'a'       open for writing, appending to the end of the file if it exists\n",
      "    'b'       binary mode\n",
      "    't'       text mode (default)\n",
      "    '+'       open a disk file for updating (reading and writing)\n",
      "    'U'       universal newline mode (deprecated)\n",
      "    ========= ===============================================================\n",
      "    \n",
      "    The default mode is 'rt' (open for reading text). For binary random\n",
      "    access, the mode 'w+b' opens and truncates the file to 0 bytes, while\n",
      "    'r+b' opens the file without truncation. The 'x' mode implies 'w' and\n",
      "    raises an `FileExistsError` if the file already exists.\n",
      "    \n",
      "    Python distinguishes between files opened in binary and text modes,\n",
      "    even when the underlying operating system doesn't. Files opened in\n",
      "    binary mode (appending 'b' to the mode argument) return contents as\n",
      "    bytes objects without any decoding. In text mode (the default, or when\n",
      "    't' is appended to the mode argument), the contents of the file are\n",
      "    returned as strings, the bytes having been first decoded using a\n",
      "    platform-dependent encoding or using the specified encoding if given.\n",
      "    \n",
      "    'U' mode is deprecated and will raise an exception in future versions\n",
      "    of Python.  It has no effect in Python 3.  Use newline to control\n",
      "    universal newlines mode.\n",
      "    \n",
      "    buffering is an optional integer used to set the buffering policy.\n",
      "    Pass 0 to switch buffering off (only allowed in binary mode), 1 to select\n",
      "    line buffering (only usable in text mode), and an integer > 1 to indicate\n",
      "    the size of a fixed-size chunk buffer.  When no buffering argument is\n",
      "    given, the default buffering policy works as follows:\n",
      "    \n",
      "    * Binary files are buffered in fixed-size chunks; the size of the buffer\n",
      "      is chosen using a heuristic trying to determine the underlying device's\n",
      "      \"block size\" and falling back on `io.DEFAULT_BUFFER_SIZE`.\n",
      "      On many systems, the buffer will typically be 4096 or 8192 bytes long.\n",
      "    \n",
      "    * \"Interactive\" text files (files for which isatty() returns True)\n",
      "      use line buffering.  Other text files use the policy described above\n",
      "      for binary files.\n",
      "    \n",
      "    encoding is the name of the encoding used to decode or encode the\n",
      "    file. This should only be used in text mode. The default encoding is\n",
      "    platform dependent, but any encoding supported by Python can be\n",
      "    passed.  See the codecs module for the list of supported encodings.\n",
      "    \n",
      "    errors is an optional string that specifies how encoding errors are to\n",
      "    be handled---this argument should not be used in binary mode. Pass\n",
      "    'strict' to raise a ValueError exception if there is an encoding error\n",
      "    (the default of None has the same effect), or pass 'ignore' to ignore\n",
      "    errors. (Note that ignoring encoding errors can lead to data loss.)\n",
      "    See the documentation for codecs.register or run 'help(codecs.Codec)'\n",
      "    for a list of the permitted encoding error strings.\n",
      "    \n",
      "    newline controls how universal newlines works (it only applies to text\n",
      "    mode). It can be None, '', '\\n', '\\r', and '\\r\\n'.  It works as\n",
      "    follows:\n",
      "    \n",
      "    * On input, if newline is None, universal newlines mode is\n",
      "      enabled. Lines in the input can end in '\\n', '\\r', or '\\r\\n', and\n",
      "      these are translated into '\\n' before being returned to the\n",
      "      caller. If it is '', universal newline mode is enabled, but line\n",
      "      endings are returned to the caller untranslated. If it has any of\n",
      "      the other legal values, input lines are only terminated by the given\n",
      "      string, and the line ending is returned to the caller untranslated.\n",
      "    \n",
      "    * On output, if newline is None, any '\\n' characters written are\n",
      "      translated to the system default line separator, os.linesep. If\n",
      "      newline is '' or '\\n', no translation takes place. If newline is any\n",
      "      of the other legal values, any '\\n' characters written are translated\n",
      "      to the given string.\n",
      "    \n",
      "    If closefd is False, the underlying file descriptor will be kept open\n",
      "    when the file is closed. This does not work when a file name is given\n",
      "    and must be True in that case.\n",
      "    \n",
      "    A custom opener can be used by passing a callable as *opener*. The\n",
      "    underlying file descriptor for the file object is then obtained by\n",
      "    calling *opener* with (*file*, *flags*). *opener* must return an open\n",
      "    file descriptor (passing os.open as *opener* results in functionality\n",
      "    similar to passing None).\n",
      "    \n",
      "    open() returns a file object whose type depends on the mode, and\n",
      "    through which the standard file operations such as reading and writing\n",
      "    are performed. When open() is used to open a file in a text mode ('w',\n",
      "    'r', 'wt', 'rt', etc.), it returns a TextIOWrapper. When used to open\n",
      "    a file in a binary mode, the returned class varies: in read binary\n",
      "    mode, it returns a BufferedReader; in write binary and append binary\n",
      "    modes, it returns a BufferedWriter, and in read/write mode, it returns\n",
      "    a BufferedRandom.\n",
      "    \n",
      "    It is also possible to use a string or bytearray as a file for both\n",
      "    reading and writing. For strings StringIO can be used like a file\n",
      "    opened in a text mode, and for bytes a BytesIO can be used like a file\n",
      "    opened in a binary mode.\n",
      "\n"
     ]
    }
   ],
   "source": [
    "help(open)"
   ],
   "metadata": {
    "collapsed": false,
    "pycharm": {
     "name": "#%%\n"
    }
   }
  },
  {
   "cell_type": "code",
   "execution_count": 48,
   "outputs": [],
   "source": [
    "import os\n",
    "root_dir = 'dataset/train'\n",
    "target_dir = 'ants_image'\n",
    "img_path = os.listdir(os.path.join(root_dir, target_dir))\n",
    "img_path.sort()"
   ],
   "metadata": {
    "collapsed": false,
    "pycharm": {
     "name": "#%%\n"
    }
   }
  },
  {
   "cell_type": "code",
   "execution_count": 45,
   "outputs": [
    {
     "data": {
      "text/plain": "['0013035.jpg',\n '1030023514_aad5c608f9.jpg',\n '1095476100_3906d8afde.jpg',\n '1099452230_d1949d3250.jpg',\n '116570827_e9c126745d.jpg',\n '1225872729_6f0856588f.jpg',\n '1262877379_64fcada201.jpg',\n '1269756697_0bce92cdab.jpg',\n '1286984635_5119e80de1.jpg',\n '132478121_2a430adea2.jpg',\n '1360291657_dc248c5eea.jpg',\n '1368913450_e146e2fb6d.jpg',\n '1473187633_63ccaacea6.jpg',\n '148715752_302c84f5a4.jpg',\n '1489674356_09d48dde0a.jpg',\n '149244013_c529578289.jpg',\n '150801003_3390b73135.jpg',\n '150801171_cd86f17ed8.jpg',\n '154124431_65460430f2.jpg',\n '162603798_40b51f1654.jpg',\n '1660097129_384bf54490.jpg',\n '167890289_dd5ba923f3.jpg',\n '1693954099_46d4c20605.jpg',\n '175998972.jpg',\n '178538489_bec7649292.jpg',\n '1804095607_0341701e1c.jpg',\n '1808777855_2a895621d7.jpg',\n '188552436_605cc9b36b.jpg',\n '1917341202_d00a7f9af5.jpg',\n '1924473702_daa9aacdbe.jpg',\n '196057951_63bf063b92.jpg',\n '196757565_326437f5fe.jpg',\n '201558278_fe4caecc76.jpg',\n '201790779_527f4c0168.jpg',\n '2019439677_2db655d361.jpg',\n '207947948_3ab29d7207.jpg',\n '20935278_9190345f6b.jpg',\n '224655713_3956f7d39a.jpg',\n '2265824718_2c96f485da.jpg',\n '2265825502_fff99cfd2d.jpg',\n '226951206_d6bf946504.jpg',\n '2278278459_6b99605e50.jpg',\n '2288450226_a6e96e8fdf.jpg',\n '2288481644_83ff7e4572.jpg',\n '2292213964_ca51ce4bef.jpg',\n '24335309_c5ea483bb8.jpg',\n '245647475_9523dfd13e.jpg',\n '255434217_1b2b3fe0a4.jpg',\n '258217966_d9d90d18d3.jpg',\n '275429470_b2d7d9290b.jpg',\n '28847243_e79fe052cd.jpg',\n '318052216_84dff3f98a.jpg',\n '334167043_cbd1adaeb9.jpg',\n '339670531_94b75ae47a.jpg',\n '342438950_a3da61deab.jpg',\n '36439863_0bec9f554f.jpg',\n '374435068_7eee412ec4.jpg',\n '382971067_0bfd33afe0.jpg',\n '384191229_5779cf591b.jpg',\n '386190770_672743c9a7.jpg',\n '392382602_1b7bed32fa.jpg',\n '403746349_71384f5b58.jpg',\n '408393566_b5b694119b.jpg',\n '424119020_6d57481dab.jpg',\n '424873399_47658a91fb.jpg',\n '450057712_771b3bfc91.jpg',\n '45472593_bfd624f8dc.jpg',\n '459694881_ac657d3187.jpg',\n '460372577_f2f6a8c9fc.jpg',\n '460874319_0a45ab4d05.jpg',\n '466430434_4000737de9.jpg',\n '470127037_513711fd21.jpg',\n '474806473_ca6caab245.jpg',\n '475961153_b8c13fd405.jpg',\n '484293231_e53cfc0c89.jpg',\n '49375974_e28ba6f17e.jpg',\n '506249802_207cd979b4.jpg',\n '506249836_717b73f540.jpg',\n '512164029_c0a66b8498.jpg',\n '512863248_43c8ce579b.jpg',\n '518773929_734dbc5ff4.jpg',\n '522163566_fec115ca66.jpg',\n '522415432_2218f34bf8.jpg',\n '531979952_bde12b3bc0.jpg',\n '533848102_70a85ad6dd.jpg',\n '535522953_308353a07c.jpg',\n '540889389_48bb588b21.jpg',\n '541630764_dbd285d63c.jpg',\n '543417860_b14237f569.jpg',\n '560966032_988f4d7bc4.jpg',\n '5650366_e22b7e1065.jpg',\n '6240329_72c01e663e.jpg',\n '6240338_93729615ec.jpg',\n '649026570_e58656104b.jpg',\n '662541407_ff8db781e7.jpg',\n '67270775_e9fdf77e9d.jpg',\n '6743948_2b8c096dda.jpg',\n '684133190_35b62c0c1d.jpg',\n '69639610_95e0de17aa.jpg',\n '707895295_009cf23188.jpg',\n '7759525_1363d24e88.jpg',\n '795000156_a9900a4a71.jpg',\n '822537660_caf4ba5514.jpg',\n '82852639_52b7f7f5e3.jpg',\n '841049277_b28e58ad05.jpg',\n '886401651_f878e888cd.jpg',\n '892108839_f1aad4ca46.jpg',\n '938946700_ca1c669085.jpg',\n '957233405_25c1d1187b.jpg',\n '9715481_b3cb4114ff.jpg',\n '998118368_6ac1d91f81.jpg',\n 'Ant_1.jpg',\n 'MehdiabadiAnt2_600.jpg',\n 'Nepenthes_rafflesiana_ant.jpg',\n 'VietnameseAntMimicSpider.jpg',\n 'ant photos.jpg',\n 'army-ants-red-picture.jpg',\n 'formica.jpeg',\n 'hormiga_co_por.jpg',\n 'imageNotFound.gif',\n 'kurokusa.jpg',\n 'swiss-army-ant.jpg',\n 'termite-vs-ant.jpg',\n 'trap-jaw-ant-insect-bg.jpg']"
     },
     "execution_count": 45,
     "metadata": {},
     "output_type": "execute_result"
    }
   ],
   "source": [
    "img_path"
   ],
   "metadata": {
    "collapsed": false,
    "pycharm": {
     "name": "#%%\n"
    }
   }
  },
  {
   "cell_type": "code",
   "execution_count": 49,
   "outputs": [
    {
     "data": {
      "text/plain": "['522163566_fec115ca66.txt',\n 'Ant_1.txt',\n '6240329_72c01e663e.txt',\n '403746349_71384f5b58.txt',\n '886401651_f878e888cd.txt',\n 'formica.jpeg.txt',\n '460372577_f2f6a8c9fc.txt',\n '386190770_672743c9a7.txt',\n '24335309_c5ea483bb8.txt',\n '150801171_cd86f17ed8.txt',\n '0013035.txt',\n 'imageNotFound.gif.txt',\n '342438950_a3da61deab.txt',\n '518773929_734dbc5ff4.txt',\n '49375974_e28ba6f17e.txt',\n '822537660_caf4ba5514.txt',\n '36439863_0bec9f554f.txt',\n '1368913450_e146e2fb6d.txt',\n '506249802_207cd979b4.txt',\n 'Nepenthes_rafflesiana_ant.txt',\n '707895295_009cf23188.txt',\n '841049277_b28e58ad05.txt',\n '1804095607_0341701e1c.txt',\n '382971067_0bfd33afe0.txt',\n '175998972.txt',\n '339670531_94b75ae47a.txt',\n '374435068_7eee412ec4.txt',\n '188552436_605cc9b36b.txt',\n '1808777855_2a895621d7.txt',\n '67270775_e9fdf77e9d.txt',\n 'VietnameseAntMimicSpider.txt',\n '957233405_25c1d1187b.txt',\n '2288481644_83ff7e4572.txt',\n '132478121_2a430adea2.txt',\n '224655713_3956f7d39a.txt',\n '531979952_bde12b3bc0.txt',\n '512863248_43c8ce579b.txt',\n 'termite-vs-ant.txt',\n 'swiss-army-ant.txt',\n '384191229_5779cf591b.txt',\n 'hormiga_co_por.txt',\n '245647475_9523dfd13e.txt',\n '540889389_48bb588b21.txt',\n '20935278_9190345f6b.txt',\n 'MehdiabadiAnt2_600.txt',\n '334167043_cbd1adaeb9.txt',\n '649026570_e58656104b.txt',\n '466430434_4000737de9.txt',\n 'army-ants-red-picture.txt',\n '201558278_fe4caecc76.txt',\n '533848102_70a85ad6dd.txt',\n '1660097129_384bf54490.txt',\n '1286984635_5119e80de1.txt',\n '196057951_63bf063b92.txt',\n '116570827_e9c126745d.txt',\n 'kurokusa.txt',\n '1099452230_d1949d3250.txt',\n '512164029_c0a66b8498.txt',\n '484293231_e53cfc0c89.txt',\n '459694881_ac657d3187.txt',\n '2265825502_fff99cfd2d.txt',\n '255434217_1b2b3fe0a4.txt',\n '560966032_988f4d7bc4.txt',\n '684133190_35b62c0c1d.txt',\n 'trap-jaw-ant-insect-bg.txt',\n '9715481_b3cb4114ff.txt',\n '148715752_302c84f5a4.txt',\n '470127037_513711fd21.txt',\n '45472593_bfd624f8dc.txt',\n '460874319_0a45ab4d05.txt',\n '1360291657_dc248c5eea.txt',\n '167890289_dd5ba923f3.txt',\n '535522953_308353a07c.txt',\n '207947948_3ab29d7207.txt',\n '1924473702_daa9aacdbe.txt',\n '795000156_a9900a4a71.txt',\n '5650366_e22b7e1065.txt',\n '196757565_326437f5fe.txt',\n '1225872729_6f0856588f.txt',\n '1095476100_3906d8afde.txt',\n '506249836_717b73f540.txt',\n '1917341202_d00a7f9af5.txt',\n '475961153_b8c13fd405.txt',\n '82852639_52b7f7f5e3.txt',\n '1693954099_46d4c20605.txt',\n '201790779_527f4c0168.txt',\n '2288450226_a6e96e8fdf.txt',\n '6240338_93729615ec.txt',\n '424873399_47658a91fb.txt',\n '541630764_dbd285d63c.txt',\n '275429470_b2d7d9290b.txt',\n '258217966_d9d90d18d3.txt',\n '1473187633_63ccaacea6.txt',\n '1030023514_aad5c608f9.txt',\n '150801003_3390b73135.txt',\n '662541407_ff8db781e7.txt',\n '450057712_771b3bfc91.txt',\n '543417860_b14237f569.txt',\n '318052216_84dff3f98a.txt',\n '1262877379_64fcada201.txt',\n '149244013_c529578289.txt',\n '408393566_b5b694119b.txt',\n '474806473_ca6caab245.txt',\n '1489674356_09d48dde0a.txt',\n '2019439677_2db655d361.txt',\n '154124431_65460430f2.txt',\n '178538489_bec7649292.txt',\n 'ant photos.txt',\n '522415432_2218f34bf8.txt',\n '892108839_f1aad4ca46.txt',\n '162603798_40b51f1654.txt',\n '424119020_6d57481dab.txt',\n '7759525_1363d24e88.txt',\n '69639610_95e0de17aa.txt',\n '6743948_2b8c096dda.txt',\n '998118368_6ac1d91f81.txt',\n '28847243_e79fe052cd.txt',\n '2292213964_ca51ce4bef.txt',\n '1269756697_0bce92cdab.txt',\n '2278278459_6b99605e50.txt',\n '2265824718_2c96f485da.txt',\n '392382602_1b7bed32fa.txt',\n '938946700_ca1c669085.txt',\n '226951206_d6bf946504.txt']"
     },
     "execution_count": 49,
     "metadata": {},
     "output_type": "execute_result"
    }
   ],
   "source": [
    "os.listdir('dataset/train/ants_label/')"
   ],
   "metadata": {
    "collapsed": false,
    "pycharm": {
     "name": "#%%\n"
    }
   }
  },
  {
   "cell_type": "code",
   "execution_count": 55,
   "outputs": [
    {
     "name": "stdout",
     "output_type": "stream",
     "text": [
      "ants\n"
     ]
    }
   ],
   "source": [
    "from torch.utils.data import Dataset\n",
    "from PIL import Image\n",
    "import os\n",
    "\n",
    "class Homework(Dataset):\n",
    "\n",
    "    def __init__(self, root_dir, image_dir,label_dir):\n",
    "        self.root_dir = root_dir\n",
    "        self.label_dir = label_dir\n",
    "        self.image_dir = image_dir\n",
    "        self.img_path = os.path.join(self.root_dir, self.image_dir)\n",
    "        self.label_path = os.path.join(self.root_dir, self.label_dir)\n",
    "\n",
    "    def __getitem__(self, item):\n",
    "        file_name = os.listdir(self.img_path)[item]\n",
    "        img = Image.open(os.path.join(self.img_path,file_name))\n",
    "        new_file_name = file_name.split('.')[0] + '.txt'\n",
    "        txt_path = os.path.join(self.label_path,new_file_name)\n",
    "        file = open(txt_path)\n",
    "        label = file.read()\n",
    "        file.close()\n",
    "        return label, img\n",
    "\n",
    "root_dir = 'dataset/train'\n",
    "image_dir = 'ants_image'\n",
    "label_dir = 'ants_label'\n",
    "homework = Homework(root_dir,image_dir,label_dir)\n",
    "label,img = homework[4]\n",
    "print(label)\n",
    "img.show()"
   ],
   "metadata": {
    "collapsed": false,
    "pycharm": {
     "name": "#%%\n"
    }
   }
  },
  {
   "cell_type": "code",
   "execution_count": 48,
   "outputs": [],
   "source": [],
   "metadata": {
    "collapsed": false,
    "pycharm": {
     "name": "#%%\n"
    }
   }
  },
  {
   "cell_type": "code",
   "execution_count": 48,
   "outputs": [],
   "source": [],
   "metadata": {
    "collapsed": false,
    "pycharm": {
     "name": "#%%\n"
    }
   }
  },
  {
   "cell_type": "code",
   "execution_count": 48,
   "outputs": [],
   "source": [],
   "metadata": {
    "collapsed": false,
    "pycharm": {
     "name": "#%%\n"
    }
   }
  },
  {
   "cell_type": "code",
   "execution_count": null,
   "outputs": [],
   "source": [],
   "metadata": {
    "collapsed": false,
    "pycharm": {
     "name": "#%%\n"
    }
   }
  }
 ],
 "metadata": {
  "kernelspec": {
   "display_name": "Python 3",
   "language": "python",
   "name": "python3"
  },
  "language_info": {
   "codemirror_mode": {
    "name": "ipython",
    "version": 2
   },
   "file_extension": ".py",
   "mimetype": "text/x-python",
   "name": "python",
   "nbconvert_exporter": "python",
   "pygments_lexer": "ipython2",
   "version": "2.7.6"
  }
 },
 "nbformat": 4,
 "nbformat_minor": 0
}