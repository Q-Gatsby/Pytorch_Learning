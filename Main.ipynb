{
 "cells": [
  {
   "cell_type": "code",
   "execution_count": 2,
   "outputs": [
    {
     "data": {
      "text/plain": "['957233405_25c1d1187b.jpg',\n '2288481644_83ff7e4572.jpg',\n '67270775_e9fdf77e9d.jpg',\n '1808777855_2a895621d7.jpg',\n 'VietnameseAntMimicSpider.jpg',\n 'swiss-army-ant.jpg',\n 'termite-vs-ant.jpg',\n '245647475_9523dfd13e.jpg',\n '384191229_5779cf591b.jpg',\n 'hormiga_co_por.jpg',\n '531979952_bde12b3bc0.jpg',\n '224655713_3956f7d39a.jpg',\n '132478121_2a430adea2.jpg',\n '512863248_43c8ce579b.jpg',\n '533848102_70a85ad6dd.jpg',\n '201558278_fe4caecc76.jpg',\n 'army-ants-red-picture.jpg',\n 'MehdiabadiAnt2_600.jpg',\n '334167043_cbd1adaeb9.jpg',\n '20935278_9190345f6b.jpg',\n 'imageNotFound.gif',\n '540889389_48bb588b21.jpg',\n '466430434_4000737de9.jpg',\n '649026570_e58656104b.jpg',\n '196057951_63bf063b92.jpg',\n '1660097129_384bf54490.jpg',\n '1286984635_5119e80de1.jpg',\n '6240329_72c01e663e.jpg',\n 'Ant_1.jpg',\n '522163566_fec115ca66.jpg',\n '0013035.jpg',\n '24335309_c5ea483bb8.jpg',\n '150801171_cd86f17ed8.jpg',\n '403746349_71384f5b58.jpg',\n '460372577_f2f6a8c9fc.jpg',\n '386190770_672743c9a7.jpg',\n '886401651_f878e888cd.jpg',\n '506249802_207cd979b4.jpg',\n '841049277_b28e58ad05.jpg',\n '707895295_009cf23188.jpg',\n 'Nepenthes_rafflesiana_ant.jpg',\n '518773929_734dbc5ff4.jpg',\n '342438950_a3da61deab.jpg',\n '1368913450_e146e2fb6d.jpg',\n '49375974_e28ba6f17e.jpg',\n '822537660_caf4ba5514.jpg',\n '36439863_0bec9f554f.jpg',\n '175998972.jpg',\n '382971067_0bfd33afe0.jpg',\n '1804095607_0341701e1c.jpg',\n '188552436_605cc9b36b.jpg',\n '339670531_94b75ae47a.jpg',\n '374435068_7eee412ec4.jpg',\n '1473187633_63ccaacea6.jpg',\n '258217966_d9d90d18d3.jpg',\n '150801003_3390b73135.jpg',\n '1030023514_aad5c608f9.jpg',\n '2288450226_a6e96e8fdf.jpg',\n '541630764_dbd285d63c.jpg',\n '275429470_b2d7d9290b.jpg',\n '6240338_93729615ec.jpg',\n '424873399_47658a91fb.jpg',\n '543417860_b14237f569.jpg',\n '318052216_84dff3f98a.jpg',\n '149244013_c529578289.jpg',\n '1262877379_64fcada201.jpg',\n '450057712_771b3bfc91.jpg',\n '662541407_ff8db781e7.jpg',\n '154124431_65460430f2.jpg',\n '2019439677_2db655d361.jpg',\n '1489674356_09d48dde0a.jpg',\n '892108839_f1aad4ca46.jpg',\n '522415432_2218f34bf8.jpg',\n '178538489_bec7649292.jpg',\n 'ant photos.jpg',\n '474806473_ca6caab245.jpg',\n '408393566_b5b694119b.jpg',\n '2278278459_6b99605e50.jpg',\n 'formica.jpeg',\n '1269756697_0bce92cdab.jpg',\n '2292213964_ca51ce4bef.jpg',\n '226951206_d6bf946504.jpg',\n '938946700_ca1c669085.jpg',\n '2265824718_2c96f485da.jpg',\n '392382602_1b7bed32fa.jpg',\n '69639610_95e0de17aa.jpg',\n '7759525_1363d24e88.jpg',\n '424119020_6d57481dab.jpg',\n '162603798_40b51f1654.jpg',\n '28847243_e79fe052cd.jpg',\n '998118368_6ac1d91f81.jpg',\n '6743948_2b8c096dda.jpg',\n '484293231_e53cfc0c89.jpg',\n '512164029_c0a66b8498.jpg',\n '2265825502_fff99cfd2d.jpg',\n '459694881_ac657d3187.jpg',\n '1099452230_d1949d3250.jpg',\n 'kurokusa.jpg',\n '116570827_e9c126745d.jpg',\n '167890289_dd5ba923f3.jpg',\n '1360291657_dc248c5eea.jpg',\n '460874319_0a45ab4d05.jpg',\n '45472593_bfd624f8dc.jpg',\n '207947948_3ab29d7207.jpg',\n '535522953_308353a07c.jpg',\n '255434217_1b2b3fe0a4.jpg',\n '560966032_988f4d7bc4.jpg',\n '148715752_302c84f5a4.jpg',\n '470127037_513711fd21.jpg',\n '9715481_b3cb4114ff.jpg',\n '684133190_35b62c0c1d.jpg',\n 'trap-jaw-ant-insect-bg.jpg',\n '196757565_326437f5fe.jpg',\n '5650366_e22b7e1065.jpg',\n '1095476100_3906d8afde.jpg',\n '1225872729_6f0856588f.jpg',\n '795000156_a9900a4a71.jpg',\n '1924473702_daa9aacdbe.jpg',\n '82852639_52b7f7f5e3.jpg',\n '1693954099_46d4c20605.jpg',\n '201790779_527f4c0168.jpg',\n '475961153_b8c13fd405.jpg',\n '506249836_717b73f540.jpg',\n '1917341202_d00a7f9af5.jpg']"
     },
     "execution_count": 2,
     "metadata": {},
     "output_type": "execute_result"
    }
   ],
   "source": [
    "import os\n",
    "os.listdir('Study02/dataset/train/ants')"
   ],
   "metadata": {
    "collapsed": false,
    "pycharm": {
     "name": "#%%\n"
    }
   }
  },
  {
   "cell_type": "markdown",
   "source": [
    "关于函数继承问题"
   ],
   "metadata": {
    "collapsed": false,
    "pycharm": {
     "name": "#%% md\n"
    }
   }
  },
  {
   "cell_type": "code",
   "execution_count": 105,
   "outputs": [],
   "source": [
    "class Father():\n",
    "\n",
    "    def __init__(self,age, gender, name='blabla'):\n",
    "        self.age = age\n",
    "        self.name = name\n",
    "        self.gender = gender\n",
    "        self.salary = 20000\n",
    "\n",
    "# 继承所有父类的信息\n",
    "class Son1(Father):\n",
    "    pass\n",
    "\n",
    "# 继承父类，通过init覆盖原有父类，只重新写入age属性\n",
    "class Son2(Father):\n",
    "    def __init__(self, age):\n",
    "        self.age = age\n",
    "\n",
    "# 继承父类，通过init覆盖原有父类，写入一个新的函数\n",
    "class Son2a(Father):\n",
    "    def lesson(self):\n",
    "        print(f'{self.salary}就这点破钱，以后你还敢浪么---{self.gender}')\n",
    "\n",
    "# 继承父类，通过init函数覆盖原有父类，写入新属性wage和money\n",
    "class Son3(Father):\n",
    "    def __init__(self,wage,money):\n",
    "        self.wage = wage\n",
    "        self.money = money\n",
    "        # super(Son3, self).__init__(wage, money)\n",
    "\n",
    "class Son30(Father):\n",
    "    def __init__(self,wage):\n",
    "        self.wage = wage\n",
    "        super(Son30, self).__init__(wage)\n",
    "\n",
    "class Son31(Father):\n",
    "    def __init__(self,wage,money):\n",
    "        self.wage = wage\n",
    "        self.money = money\n",
    "        super(Son31, self).__init__(wage, money)\n",
    "\n",
    "class Son32(Father):\n",
    "    def __init__(self,wage,money,rename):\n",
    "        self.wage = wage\n",
    "        self.money = money\n",
    "        self.rename = rename\n",
    "        super(Son32, self).__init__(wage, money, rename)\n",
    "\n",
    "class Son33(Father):\n",
    "    def __init__(self,wage,money,rename):\n",
    "        super(Son33, self).__init__(wage, money, rename)\n",
    "\n",
    "class Son34(Father):\n",
    "    def __init__(self,wage,money,rename):\n",
    "        self.wage = wage\n",
    "        self.money = money\n",
    "        self.rename = rename\n",
    "        super(Son34, self).__init__(wage, money, rename)\n",
    "\n",
    "class Son4(Father):\n",
    "    def __init__(self, age, name):\n",
    "        super(Son4, self).__init__(name,age)\n",
    "        print(self.name)\n",
    "        self.name= name\n",
    "        print(self.name)\n",
    "\n",
    "class Son41(Father):\n",
    "    def __init__(self, age, name):\n",
    "        self.name= name\n",
    "        print(self.name)\n",
    "        super(Son41, self).__init__(name,age)\n",
    "        print(self.name)"
   ],
   "metadata": {
    "collapsed": false,
    "pycharm": {
     "name": "#%%\n"
    }
   }
  },
  {
   "cell_type": "code",
   "execution_count": 80,
   "outputs": [
    {
     "name": "stdout",
     "output_type": "stream",
     "text": [
      "50\n",
      "blabla\n"
     ]
    }
   ],
   "source": [
    "father = Father(50, 'BB')\n",
    "print(father.age)\n",
    "print(father.name)"
   ],
   "metadata": {
    "collapsed": false,
    "pycharm": {
     "name": "#%%\n"
    }
   }
  },
  {
   "cell_type": "code",
   "execution_count": 81,
   "outputs": [
    {
     "name": "stdout",
     "output_type": "stream",
     "text": [
      "33\n",
      "LGBTQIAPK\n",
      "Chen\n",
      "20000\n"
     ]
    }
   ],
   "source": [
    "son1 = Son1(33,'LGBTQIAPK', 'Chen')\n",
    "print(son1.age)\n",
    "print(son1.gender)\n",
    "print(son1.name)\n",
    "print(son1.salary)"
   ],
   "metadata": {
    "collapsed": false,
    "pycharm": {
     "name": "#%%\n"
    }
   }
  },
  {
   "cell_type": "code",
   "execution_count": 82,
   "outputs": [
    {
     "name": "stdout",
     "output_type": "stream",
     "text": [
      "23\n"
     ]
    },
    {
     "ename": "AttributeError",
     "evalue": "'Son2' object has no attribute 'name'",
     "output_type": "error",
     "traceback": [
      "\u001B[0;31m---------------------------------------------------------------------------\u001B[0m",
      "\u001B[0;31mAttributeError\u001B[0m                            Traceback (most recent call last)",
      "\u001B[0;32m/var/folders/zx/xctpf9r50q9628v05ll3x86r0000gp/T/ipykernel_37815/3142938683.py\u001B[0m in \u001B[0;36m<module>\u001B[0;34m\u001B[0m\n\u001B[1;32m      1\u001B[0m \u001B[0mson2\u001B[0m \u001B[0;34m=\u001B[0m \u001B[0mSon2\u001B[0m\u001B[0;34m(\u001B[0m\u001B[0;36m23\u001B[0m\u001B[0;34m)\u001B[0m\u001B[0;34m\u001B[0m\u001B[0;34m\u001B[0m\u001B[0m\n\u001B[1;32m      2\u001B[0m \u001B[0mprint\u001B[0m\u001B[0;34m(\u001B[0m\u001B[0mson2\u001B[0m\u001B[0;34m.\u001B[0m\u001B[0mage\u001B[0m\u001B[0;34m)\u001B[0m\u001B[0;34m\u001B[0m\u001B[0;34m\u001B[0m\u001B[0m\n\u001B[0;32m----> 3\u001B[0;31m \u001B[0mprint\u001B[0m\u001B[0;34m(\u001B[0m\u001B[0mson2\u001B[0m\u001B[0;34m.\u001B[0m\u001B[0mname\u001B[0m\u001B[0;34m)\u001B[0m\u001B[0;34m\u001B[0m\u001B[0;34m\u001B[0m\u001B[0m\n\u001B[0m",
      "\u001B[0;31mAttributeError\u001B[0m: 'Son2' object has no attribute 'name'"
     ]
    }
   ],
   "source": [
    "son2 = Son2(23)\n",
    "print(son2.age)\n",
    "print(son2.name)"
   ],
   "metadata": {
    "collapsed": false,
    "pycharm": {
     "name": "#%%\n"
    }
   }
  },
  {
   "cell_type": "code",
   "execution_count": 189,
   "outputs": [
    {
     "ename": "AttributeError",
     "evalue": "'Son2' object has no attribute 'gender'",
     "output_type": "error",
     "traceback": [
      "\u001B[0;31m---------------------------------------------------------------------------\u001B[0m",
      "\u001B[0;31mAttributeError\u001B[0m                            Traceback (most recent call last)",
      "\u001B[0;32m/var/folders/zx/xctpf9r50q9628v05ll3x86r0000gp/T/ipykernel_12250/1817140309.py\u001B[0m in \u001B[0;36m<module>\u001B[0;34m\u001B[0m\n\u001B[0;32m----> 1\u001B[0;31m \u001B[0mprint\u001B[0m\u001B[0;34m(\u001B[0m\u001B[0mson2\u001B[0m\u001B[0;34m.\u001B[0m\u001B[0mgender\u001B[0m\u001B[0;34m)\u001B[0m\u001B[0;34m\u001B[0m\u001B[0;34m\u001B[0m\u001B[0m\n\u001B[0m",
      "\u001B[0;31mAttributeError\u001B[0m: 'Son2' object has no attribute 'gender'"
     ]
    }
   ],
   "source": [
    "print(son2.gender)"
   ],
   "metadata": {
    "collapsed": false,
    "pycharm": {
     "name": "#%%\n"
    }
   }
  },
  {
   "cell_type": "code",
   "execution_count": 190,
   "outputs": [
    {
     "ename": "AttributeError",
     "evalue": "'Son2' object has no attribute 'salary'",
     "output_type": "error",
     "traceback": [
      "\u001B[0;31m---------------------------------------------------------------------------\u001B[0m",
      "\u001B[0;31mAttributeError\u001B[0m                            Traceback (most recent call last)",
      "\u001B[0;32m/var/folders/zx/xctpf9r50q9628v05ll3x86r0000gp/T/ipykernel_12250/1334205370.py\u001B[0m in \u001B[0;36m<module>\u001B[0;34m\u001B[0m\n\u001B[0;32m----> 1\u001B[0;31m \u001B[0mprint\u001B[0m\u001B[0;34m(\u001B[0m\u001B[0mson2\u001B[0m\u001B[0;34m.\u001B[0m\u001B[0msalary\u001B[0m\u001B[0;34m)\u001B[0m\u001B[0;34m\u001B[0m\u001B[0;34m\u001B[0m\u001B[0m\n\u001B[0m",
      "\u001B[0;31mAttributeError\u001B[0m: 'Son2' object has no attribute 'salary'"
     ]
    }
   ],
   "source": [
    "print(son2.salary)"
   ],
   "metadata": {
    "collapsed": false,
    "pycharm": {
     "name": "#%%\n"
    }
   }
  },
  {
   "cell_type": "code",
   "execution_count": 185,
   "outputs": [
    {
     "name": "stdout",
     "output_type": "stream",
     "text": [
      "23\n",
      "blabla\n",
      "20000就这点破钱，以后你还敢浪么---Male\n"
     ]
    }
   ],
   "source": [
    "son2a = Son2a(23,'Male')\n",
    "print(son2a.age)\n",
    "print(son2a.name)\n",
    "son2a.lesson()"
   ],
   "metadata": {
    "collapsed": false,
    "pycharm": {
     "name": "#%%\n"
    }
   }
  },
  {
   "cell_type": "code",
   "execution_count": 83,
   "outputs": [
    {
     "name": "stdout",
     "output_type": "stream",
     "text": [
      "23\n",
      "333\n"
     ]
    },
    {
     "ename": "AttributeError",
     "evalue": "'Son3' object has no attribute 'gender'",
     "output_type": "error",
     "traceback": [
      "\u001B[0;31m---------------------------------------------------------------------------\u001B[0m",
      "\u001B[0;31mAttributeError\u001B[0m                            Traceback (most recent call last)",
      "\u001B[0;32m/var/folders/zx/xctpf9r50q9628v05ll3x86r0000gp/T/ipykernel_37815/3416904441.py\u001B[0m in \u001B[0;36m<module>\u001B[0;34m\u001B[0m\n\u001B[1;32m      2\u001B[0m \u001B[0mprint\u001B[0m\u001B[0;34m(\u001B[0m\u001B[0mson3a\u001B[0m\u001B[0;34m.\u001B[0m\u001B[0mwage\u001B[0m\u001B[0;34m)\u001B[0m\u001B[0;34m\u001B[0m\u001B[0;34m\u001B[0m\u001B[0m\n\u001B[1;32m      3\u001B[0m \u001B[0mprint\u001B[0m\u001B[0;34m(\u001B[0m\u001B[0mson3a\u001B[0m\u001B[0;34m.\u001B[0m\u001B[0mmoney\u001B[0m\u001B[0;34m)\u001B[0m\u001B[0;34m\u001B[0m\u001B[0;34m\u001B[0m\u001B[0m\n\u001B[0;32m----> 4\u001B[0;31m \u001B[0mprint\u001B[0m\u001B[0;34m(\u001B[0m\u001B[0mson3a\u001B[0m\u001B[0;34m.\u001B[0m\u001B[0mgender\u001B[0m\u001B[0;34m)\u001B[0m\u001B[0;34m\u001B[0m\u001B[0;34m\u001B[0m\u001B[0m\n\u001B[0m\u001B[1;32m      5\u001B[0m \u001B[0mprint\u001B[0m\u001B[0;34m(\u001B[0m\u001B[0mson3a\u001B[0m\u001B[0;34m.\u001B[0m\u001B[0mname\u001B[0m\u001B[0;34m)\u001B[0m\u001B[0;34m\u001B[0m\u001B[0;34m\u001B[0m\u001B[0m\n\u001B[1;32m      6\u001B[0m \u001B[0mprint\u001B[0m\u001B[0;34m(\u001B[0m\u001B[0mson3a\u001B[0m\u001B[0;34m.\u001B[0m\u001B[0msalary\u001B[0m\u001B[0;34m)\u001B[0m\u001B[0;34m\u001B[0m\u001B[0;34m\u001B[0m\u001B[0m\n",
      "\u001B[0;31mAttributeError\u001B[0m: 'Son3' object has no attribute 'gender'"
     ]
    }
   ],
   "source": [
    "son3a = Son3(23, 333)\n",
    "print(son3a.wage)\n",
    "print(son3a.money)\n",
    "print(son3a.gender)\n",
    "print(son3a.name)\n",
    "print(son3a.salary)"
   ],
   "metadata": {
    "collapsed": false,
    "pycharm": {
     "name": "#%%\n"
    }
   }
  },
  {
   "cell_type": "code",
   "execution_count": 84,
   "outputs": [
    {
     "name": "stdout",
     "output_type": "stream",
     "text": [
      "33\n",
      "blabla\n",
      "233\n"
     ]
    }
   ],
   "source": [
    "son31a = Son31(33,233)\n",
    "print(son31a.age)\n",
    "print(son31a.name)\n",
    "print(son31a.gender)"
   ],
   "metadata": {
    "collapsed": false,
    "pycharm": {
     "name": "#%%\n"
    }
   }
  },
  {
   "cell_type": "code",
   "execution_count": 86,
   "outputs": [
    {
     "name": "stdout",
     "output_type": "stream",
     "text": [
      "1500\n",
      "3000\n",
      "cb\n",
      "1500\n",
      "3000\n",
      "cb\n",
      "20000\n"
     ]
    }
   ],
   "source": [
    "son32a = Son32(1500,3000,'cb')\n",
    "print(son32a.wage)\n",
    "print(son32a.money)\n",
    "print(son32a.rename)\n",
    "print(son32a.age)\n",
    "print(son32a.gender)\n",
    "print(son32a.name)\n",
    "print(son32a.salary)"
   ],
   "metadata": {
    "collapsed": false,
    "pycharm": {
     "name": "#%%\n"
    }
   }
  },
  {
   "cell_type": "code",
   "execution_count": 87,
   "outputs": [
    {
     "name": "stdout",
     "output_type": "stream",
     "text": [
      "20\n",
      "20\n",
      "20000\n",
      "20\n"
     ]
    },
    {
     "ename": "AttributeError",
     "evalue": "'Son33' object has no attribute 'wage'",
     "output_type": "error",
     "traceback": [
      "\u001B[0;31m---------------------------------------------------------------------------\u001B[0m",
      "\u001B[0;31mAttributeError\u001B[0m                            Traceback (most recent call last)",
      "\u001B[0;32m/var/folders/zx/xctpf9r50q9628v05ll3x86r0000gp/T/ipykernel_37815/2637414563.py\u001B[0m in \u001B[0;36m<module>\u001B[0;34m\u001B[0m\n\u001B[1;32m      4\u001B[0m \u001B[0mprint\u001B[0m\u001B[0;34m(\u001B[0m\u001B[0mson33\u001B[0m\u001B[0;34m.\u001B[0m\u001B[0msalary\u001B[0m\u001B[0;34m)\u001B[0m\u001B[0;34m\u001B[0m\u001B[0;34m\u001B[0m\u001B[0m\n\u001B[1;32m      5\u001B[0m \u001B[0mprint\u001B[0m\u001B[0;34m(\u001B[0m\u001B[0mson33\u001B[0m\u001B[0;34m.\u001B[0m\u001B[0mname\u001B[0m\u001B[0;34m)\u001B[0m\u001B[0;34m\u001B[0m\u001B[0;34m\u001B[0m\u001B[0m\n\u001B[0;32m----> 6\u001B[0;31m \u001B[0mprint\u001B[0m\u001B[0;34m(\u001B[0m\u001B[0mson33\u001B[0m\u001B[0;34m.\u001B[0m\u001B[0mwage\u001B[0m\u001B[0;34m)\u001B[0m\u001B[0;34m\u001B[0m\u001B[0;34m\u001B[0m\u001B[0m\n\u001B[0m\u001B[1;32m      7\u001B[0m \u001B[0mprint\u001B[0m\u001B[0;34m(\u001B[0m\u001B[0mson33\u001B[0m\u001B[0;34m.\u001B[0m\u001B[0mmoney\u001B[0m\u001B[0;34m)\u001B[0m\u001B[0;34m\u001B[0m\u001B[0;34m\u001B[0m\u001B[0m\n\u001B[1;32m      8\u001B[0m \u001B[0mprint\u001B[0m\u001B[0;34m(\u001B[0m\u001B[0mson33\u001B[0m\u001B[0;34m.\u001B[0m\u001B[0mrename\u001B[0m\u001B[0;34m)\u001B[0m\u001B[0;34m\u001B[0m\u001B[0;34m\u001B[0m\u001B[0m\n",
      "\u001B[0;31mAttributeError\u001B[0m: 'Son33' object has no attribute 'wage'"
     ]
    }
   ],
   "source": [
    "son33 = Son33(20,20,20)\n",
    "print(son33.gender)\n",
    "print(son33.age)\n",
    "print(son33.salary)\n",
    "print(son33.name)\n",
    "print(son33.wage)\n",
    "print(son33.money)\n",
    "print(son33.rename)"
   ],
   "metadata": {
    "collapsed": false,
    "pycharm": {
     "name": "#%%\n"
    }
   }
  },
  {
   "cell_type": "code",
   "execution_count": 90,
   "outputs": [
    {
     "name": "stdout",
     "output_type": "stream",
     "text": [
      "20\n",
      "20\n",
      "20000\n",
      "20\n",
      "20\n",
      "20\n",
      "20\n"
     ]
    }
   ],
   "source": [
    "son34 = Son34(20,20,20)\n",
    "print(son34.gender)\n",
    "print(son34.age)\n",
    "print(son34.salary)\n",
    "print(son34.name)\n",
    "print(son34.wage)\n",
    "print(son34.money)\n",
    "print(son34.rename)"
   ],
   "metadata": {
    "collapsed": false,
    "pycharm": {
     "name": "#%%\n"
    }
   }
  },
  {
   "cell_type": "code",
   "execution_count": 103,
   "outputs": [
    {
     "name": "stdout",
     "output_type": "stream",
     "text": [
      "blabla\n",
      "Jack\n"
     ]
    },
    {
     "data": {
      "text/plain": "'Jack'"
     },
     "execution_count": 103,
     "metadata": {},
     "output_type": "execute_result"
    }
   ],
   "source": [
    "son4 = Son4(23, 'Jack')\n",
    "son4.age"
   ],
   "metadata": {
    "collapsed": false,
    "pycharm": {
     "name": "#%%\n"
    }
   }
  },
  {
   "cell_type": "code",
   "execution_count": 106,
   "outputs": [
    {
     "name": "stdout",
     "output_type": "stream",
     "text": [
      "Jack\n",
      "blabla\n"
     ]
    },
    {
     "data": {
      "text/plain": "'blabla'"
     },
     "execution_count": 106,
     "metadata": {},
     "output_type": "execute_result"
    }
   ],
   "source": [
    "son41 = Son41(23, 'Jack')\n",
    "son41.name"
   ],
   "metadata": {
    "collapsed": false,
    "pycharm": {
     "name": "#%%\n"
    }
   }
  },
  {
   "cell_type": "code",
   "execution_count": null,
   "outputs": [],
   "source": [],
   "metadata": {
    "collapsed": false,
    "pycharm": {
     "name": "#%%\n"
    }
   }
  },
  {
   "cell_type": "markdown",
   "source": [
    "装饰器部分"
   ],
   "metadata": {
    "collapsed": false,
    "pycharm": {
     "name": "#%% md\n"
    }
   }
  },
  {
   "cell_type": "code",
   "execution_count": 140,
   "outputs": [
    {
     "name": "stdout",
     "output_type": "stream",
     "text": [
      "一共用时0.5051450729370117s\n"
     ]
    },
    {
     "data": {
      "text/plain": "4"
     },
     "execution_count": 140,
     "metadata": {},
     "output_type": "execute_result"
    }
   ],
   "source": [
    "import time\n",
    "\n",
    "def Timer(func):\n",
    "\n",
    "    def wrapper(*args, **kwargs):\n",
    "        start = time.time()\n",
    "        ret = func(*args, **kwargs)\n",
    "        end = time.time() - start\n",
    "        print(f'一共用时{end}s')\n",
    "        return ret\n",
    "\n",
    "    return wrapper\n",
    "\n",
    "@Timer\n",
    "def Test(a,b):\n",
    "    time.sleep(0.5)\n",
    "    return a+b\n",
    "\n",
    "# @Timer等价于Test = Timer(test)\n",
    "# func在装饰器内就相当于Test函数本身，但是要通过wrapper函数来接收所有参数才行，args和kwargs是python基础知识，代表接收所有参数\n",
    "# 通俗的理解就是func只能传递Test函数，但函数里面的参数需要wrapper来接受\n",
    "Test(1,3)"
   ],
   "metadata": {
    "collapsed": false,
    "pycharm": {
     "name": "#%%\n"
    }
   }
  },
  {
   "cell_type": "code",
   "execution_count": 142,
   "outputs": [
    {
     "name": "stdout",
     "output_type": "stream",
     "text": [
      "一共用时0.5050370693206787s\n",
      "装饰器内部传进来的参数是666\n"
     ]
    },
    {
     "data": {
      "text/plain": "4"
     },
     "execution_count": 142,
     "metadata": {},
     "output_type": "execute_result"
    }
   ],
   "source": [
    "import time\n",
    "\n",
    "def Timer(parameter):\n",
    "\n",
    "    def wrapper_para(func):\n",
    "\n",
    "        def wrapper(*args, **kwargs):\n",
    "            start = time.time()\n",
    "            ret = func(*args, **kwargs)\n",
    "            end = time.time() - start\n",
    "            print(f'一共用时{end}s')\n",
    "            print(f'装饰器内部传进来的参数是{parameter}')\n",
    "            return ret\n",
    "\n",
    "        return wrapper\n",
    "\n",
    "    return wrapper_para\n",
    "\n",
    "@Timer(666)\n",
    "def Test(a,b):\n",
    "    time.sleep(0.5)\n",
    "    return a+b\n",
    "\n",
    "Test(1,3)"
   ],
   "metadata": {
    "collapsed": false,
    "pycharm": {
     "name": "#%%\n"
    }
   }
  },
  {
   "cell_type": "code",
   "execution_count": 46,
   "outputs": [],
   "source": [
    "class Car():\n",
    "    \"\"\"A simple attempt to represent a car.\"\"\"\n",
    "\n",
    "    def __init__(self, make, model, year):\n",
    "        \"\"\"设置属性的初始值\"\"\"\n",
    "        self.make = make\n",
    "        self.model = model\n",
    "        self.year = year\n",
    "        self.odometer_reading=0\n",
    "\n",
    "\n",
    "    def get_descriptive_name(self):\n",
    "        \"\"\"Return a neatly formatted descriptive name.\"\"\"\n",
    "        long_name = str(self.year) + ' ' + self.make + ' ' + self.model\n",
    "        return long_name.title()\n",
    "\n",
    "    def read_odometer(self):\n",
    "        \"\"\"Print a statement showing the car's mileage.\"\"\"\n",
    "        print(\"This car has \" + str(self.odometer_reading) + \" miles on it.\")\n",
    "\n",
    "    def update_odometer(self, mileage):\n",
    "        \"\"\"Set the odometer reading to the given value.\"\"\"\n",
    "        self.odometer_reading = mileage\n",
    "\n",
    "    def increment_odometer(self, miles):\n",
    "        \"\"\"Add the given amount to the odometer reading.\"\"\"\n",
    "        self.odometer_reading += miles\n",
    "\n"
   ],
   "metadata": {
    "collapsed": false,
    "pycharm": {
     "name": "#%%\n"
    }
   }
  },
  {
   "cell_type": "code",
   "execution_count": 45,
   "outputs": [],
   "source": [
    "#ElectricCar子类，继承Car类（的属性和方法），可以定义自己的新属性和方法，还可以重写父类的方法\n",
    "class ElectricCar(Car):\n",
    "    \"\"\"模拟电动汽车的独特之处.\"\"\"\n",
    "\n",
    "    def __init__(self, manufacturer, my, damne, battery_size=70):\n",
    "        \"\"\"初始化父类属性,再初始化电动汽车特有的属性.\"\"\"\n",
    "        super().__init__(manufacturer, my, damne)\n",
    "        self.battery = Battery(battery_size)# 属性battery是一个Battery类的实例\n",
    "\n",
    "    def describe_battery(self):\n",
    "        \"\"\"打印一个描述电池大小的语句.\"\"\"\n",
    "        print(\"This car has a \" + str(self.battery_size) + \"-kWh battery.\")\n",
    "\n",
    "\n",
    "    def get_descriptive_name(self): #在子类中重写该方法\n",
    "        \"\"\"返回一个整洁的格式化描述性名称.\"\"\"\n",
    "        long_name = str(self.year) + ' ' + self.make + ' ' + self.model + ' ' + str(self. battery.battery_size)  + \"-kWh battery.\"\n",
    "        return long_name.title()"
   ],
   "metadata": {
    "collapsed": false,
    "pycharm": {
     "name": "#%%\n"
    }
   }
  },
  {
   "cell_type": "code",
   "execution_count": 47,
   "outputs": [],
   "source": [
    "#Battery类，是ElectricCar的一个组件\n",
    "class Battery():\n",
    "    \"\"\"一次模拟电动汽车电瓶的简单尝试.\"\"\"\n",
    "\n",
    "    def __init__(self, battery_size=70):\n",
    "        \"\"\"初始化电瓶的属性.\"\"\"\n",
    "        self.battery_size = battery_size\n",
    "\n",
    "    def describe_battery(self):\n",
    "        \"\"\"打印一条描述电瓶容量的消息.\"\"\"\n",
    "        print(\"This car has a \" + str(self.battery_size) + \"-kWh battery.\")\n",
    "\n",
    "    def get_range(self):\n",
    "        \"\"\"打印关于电池提供的范围的声明.\"\"\"\n",
    "        if self.battery_size == 70:\n",
    "            range = 240\n",
    "        elif self.battery_size == 85:\n",
    "            range = 270\n",
    "        message = \"This car can go approximately \" + str(range)\n",
    "        message += \" miles on a full charge.\"\n",
    "        print(message)"
   ],
   "metadata": {
    "collapsed": false,
    "pycharm": {
     "name": "#%%\n"
    }
   }
  },
  {
   "cell_type": "code",
   "execution_count": 50,
   "outputs": [
    {
     "name": "stdout",
     "output_type": "stream",
     "text": [
      "2015 Tesla Roadster 70-Kwh Battery.\n"
     ]
    }
   ],
   "source": [
    "my_tesla = ElectricCar('tesla', 'roadster', 2015)\n",
    "name = my_tesla.get_descriptive_name()\n",
    "print(name)\n"
   ],
   "metadata": {
    "collapsed": false,
    "pycharm": {
     "name": "#%%\n"
    }
   }
  },
  {
   "cell_type": "code",
   "execution_count": null,
   "outputs": [],
   "source": [],
   "metadata": {
    "collapsed": false,
    "pycharm": {
     "name": "#%%\n"
    }
   }
  }
 ],
 "metadata": {
  "kernelspec": {
   "display_name": "Python 3",
   "language": "python",
   "name": "python3"
  },
  "language_info": {
   "codemirror_mode": {
    "name": "ipython",
    "version": 2
   },
   "file_extension": ".py",
   "mimetype": "text/x-python",
   "name": "python",
   "nbconvert_exporter": "python",
   "pygments_lexer": "ipython2",
   "version": "2.7.6"
  }
 },
 "nbformat": 4,
 "nbformat_minor": 0
}